{
 "cells": [
  {
   "cell_type": "code",
   "execution_count": 1,
   "id": "008c780a",
   "metadata": {
    "ExecuteTime": {
     "end_time": "2023-01-09T16:21:11.344259Z",
     "start_time": "2023-01-09T16:21:09.181401Z"
    }
   },
   "outputs": [],
   "source": [
    "#QuCoDes for importing drivers\n",
    "import qcodes.instrument_drivers as drivers\n",
    "import qcodes.instrument.sims as sims\n",
    "\n"
   ]
  },
  {
   "cell_type": "code",
   "execution_count": 2,
   "id": "443b2949",
   "metadata": {
    "ExecuteTime": {
     "end_time": "2023-01-09T16:22:14.668927Z",
     "start_time": "2023-01-09T16:22:14.454541Z"
    }
   },
   "outputs": [
    {
     "ename": "AttributeError",
     "evalue": "module 'qcodes.instrument_drivers' has no attribute 'Keysight'",
     "output_type": "error",
     "traceback": [
      "\u001b[0;31m---------------------------------------------------------------------------\u001b[0m",
      "\u001b[0;31mAttributeError\u001b[0m                            Traceback (most recent call last)",
      "\u001b[0;32m/tmp/ipykernel_25825/187764260.py\u001b[0m in \u001b[0;36m<module>\u001b[0;34m\u001b[0m\n\u001b[0;32m----> 1\u001b[0;31m \u001b[0mdrivers\u001b[0m\u001b[0;34m.\u001b[0m\u001b[0mKeysight\u001b[0m\u001b[0;34m\u001b[0m\u001b[0;34m\u001b[0m\u001b[0m\n\u001b[0m",
      "\u001b[0;31mAttributeError\u001b[0m: module 'qcodes.instrument_drivers' has no attribute 'Keysight'"
     ]
    }
   ],
   "source": [
    "drivers.Keysight"
   ]
  },
  {
   "cell_type": "code",
   "execution_count": 3,
   "id": "a23b7298",
   "metadata": {
    "ExecuteTime": {
     "end_time": "2023-01-09T16:22:29.386171Z",
     "start_time": "2023-01-09T16:22:29.371293Z"
    }
   },
   "outputs": [],
   "source": [
    "import qcodes.instrument_drivers.Keysight.Keysight_N5173B"
   ]
  },
  {
   "cell_type": "code",
   "execution_count": 7,
   "id": "52c888d9",
   "metadata": {
    "ExecuteTime": {
     "end_time": "2023-01-09T16:24:36.241046Z",
     "start_time": "2023-01-09T16:24:36.228492Z"
    }
   },
   "outputs": [],
   "source": [
    "from qcodes.instrument_drivers.Keysight import Keysight_N5173B"
   ]
  },
  {
   "cell_type": "code",
   "execution_count": 11,
   "id": "c70e0989",
   "metadata": {
    "ExecuteTime": {
     "end_time": "2023-01-09T16:26:05.075425Z",
     "start_time": "2023-01-09T16:26:05.065436Z"
    }
   },
   "outputs": [
    {
     "name": "stdout",
     "output_type": "stream",
     "text": [
      "Help on method find_instrument in module qcodes.instrument.instrument:\n",
      "\n",
      "find_instrument(name: 'str', instrument_class: 'type[T] | None' = None) -> 'T' method of qcodes.instrument.instrument_meta.InstrumentMeta instance\n",
      "    Find an existing instrument by name.\n",
      "    \n",
      "    Args:\n",
      "        name: Name of the instrument.\n",
      "        instrument_class: The type of instrument you are looking for.\n",
      "    \n",
      "    Returns:\n",
      "        The instrument found.\n",
      "    \n",
      "    Raises:\n",
      "        KeyError: If no instrument of that name was found, or if its\n",
      "            reference is invalid (dead).\n",
      "        TypeError: If a specific class was requested but a different\n",
      "            type was found.\n",
      "\n"
     ]
    }
   ],
   "source": [
    "help(Keysight_N5173B.N5173B.find_instrument) #('130.79.148.197')"
   ]
  },
  {
   "cell_type": "code",
   "execution_count": 12,
   "id": "23491751",
   "metadata": {
    "ExecuteTime": {
     "end_time": "2023-01-09T16:27:09.706650Z",
     "start_time": "2023-01-09T16:27:09.678030Z"
    }
   },
   "outputs": [
    {
     "ename": "KeyError",
     "evalue": "'Instrument with name A-N5173B-100536 does not exist'",
     "output_type": "error",
     "traceback": [
      "\u001b[0;31m---------------------------------------------------------------------------\u001b[0m",
      "\u001b[0;31mKeyError\u001b[0m                                  Traceback (most recent call last)",
      "\u001b[0;32m/tmp/ipykernel_26053/1744789987.py\u001b[0m in \u001b[0;36m<module>\u001b[0;34m\u001b[0m\n\u001b[0;32m----> 1\u001b[0;31m \u001b[0mKeysight_N5173B\u001b[0m\u001b[0;34m.\u001b[0m\u001b[0mN5173B\u001b[0m\u001b[0;34m.\u001b[0m\u001b[0mfind_instrument\u001b[0m\u001b[0;34m(\u001b[0m\u001b[0;34m'A-N5173B-100536'\u001b[0m\u001b[0;34m)\u001b[0m\u001b[0;34m\u001b[0m\u001b[0;34m\u001b[0m\u001b[0m\n\u001b[0m",
      "\u001b[0;32m~/anaconda3/envs/q-env/lib/python3.9/site-packages/qcodes/instrument/instrument.py\u001b[0m in \u001b[0;36mfind_instrument\u001b[0;34m(cls, name, instrument_class)\u001b[0m\n\u001b[1;32m    283\u001b[0m \u001b[0;34m\u001b[0m\u001b[0m\n\u001b[1;32m    284\u001b[0m         \u001b[0;32mif\u001b[0m \u001b[0mname\u001b[0m \u001b[0;32mnot\u001b[0m \u001b[0;32min\u001b[0m \u001b[0mcls\u001b[0m\u001b[0;34m.\u001b[0m\u001b[0m_all_instruments\u001b[0m\u001b[0;34m:\u001b[0m\u001b[0;34m\u001b[0m\u001b[0;34m\u001b[0m\u001b[0m\n\u001b[0;32m--> 285\u001b[0;31m             \u001b[0;32mraise\u001b[0m \u001b[0mKeyError\u001b[0m\u001b[0;34m(\u001b[0m\u001b[0;34mf\"Instrument with name {name} does not exist\"\u001b[0m\u001b[0;34m)\u001b[0m\u001b[0;34m\u001b[0m\u001b[0;34m\u001b[0m\u001b[0m\n\u001b[0m\u001b[1;32m    286\u001b[0m         \u001b[0mins\u001b[0m \u001b[0;34m=\u001b[0m \u001b[0mcls\u001b[0m\u001b[0;34m.\u001b[0m\u001b[0m_all_instruments\u001b[0m\u001b[0;34m[\u001b[0m\u001b[0mname\u001b[0m\u001b[0;34m]\u001b[0m\u001b[0;34m\u001b[0m\u001b[0;34m\u001b[0m\u001b[0m\n\u001b[1;32m    287\u001b[0m         \u001b[0;32mif\u001b[0m \u001b[0mins\u001b[0m \u001b[0;32mis\u001b[0m \u001b[0;32mNone\u001b[0m\u001b[0;34m:\u001b[0m\u001b[0;34m\u001b[0m\u001b[0;34m\u001b[0m\u001b[0m\n",
      "\u001b[0;31mKeyError\u001b[0m: 'Instrument with name A-N5173B-100536 does not exist'"
     ]
    }
   ],
   "source": [
    "Keysight_N5173B.N5173B.find_instrument('A-N5173B-100536')"
   ]
  },
  {
   "cell_type": "code",
   "execution_count": 1,
   "id": "8e74b226",
   "metadata": {
    "ExecuteTime": {
     "end_time": "2023-01-10T15:14:19.799003Z",
     "start_time": "2023-01-10T15:14:19.048612Z"
    }
   },
   "outputs": [
    {
     "name": "stderr",
     "output_type": "stream",
     "text": [
      "/home/mmorgado/anaconda3/envs/q-env/lib/python3.9/site-packages/gpib_ctypes/gpib/gpib.py:54: UserWarning: GPIB library not found. Please manually load it using _load_lib(filename). All GPIB functions will raise OSError until the library is manually loaded.\n",
      "  warnings.warn(message)\n"
     ]
    },
    {
     "data": {
      "text/plain": [
       "()"
      ]
     },
     "execution_count": 1,
     "metadata": {},
     "output_type": "execute_result"
    }
   ],
   "source": [
    "import pyvisa\n",
    "rm = pyvisa.ResourceManager()\n",
    "rm.list_resources()"
   ]
  },
  {
   "cell_type": "code",
   "execution_count": 2,
   "id": "970dff74",
   "metadata": {
    "ExecuteTime": {
     "end_time": "2023-01-10T15:14:20.977683Z",
     "start_time": "2023-01-10T15:14:20.964242Z"
    }
   },
   "outputs": [],
   "source": [
    "my_instrument = rm.open_resource('TCPIP::130.79.148.197::inst0::INSTR')"
   ]
  },
  {
   "cell_type": "code",
   "execution_count": 3,
   "id": "25b2785f",
   "metadata": {
    "ExecuteTime": {
     "end_time": "2023-01-10T15:14:23.124713Z",
     "start_time": "2023-01-10T15:14:23.115471Z"
    }
   },
   "outputs": [
    {
     "name": "stdout",
     "output_type": "stream",
     "text": [
      "Agilent Technologies, N5173B, MY59100536, B.01.90\n",
      "\n"
     ]
    }
   ],
   "source": [
    "print(my_instrument.query('*IDN?'))"
   ]
  },
  {
   "cell_type": "code",
   "execution_count": 4,
   "id": "6120c3c4",
   "metadata": {
    "ExecuteTime": {
     "end_time": "2023-01-10T15:14:24.501946Z",
     "start_time": "2023-01-10T15:14:24.494165Z"
    }
   },
   "outputs": [
    {
     "name": "stdout",
     "output_type": "stream",
     "text": [
      "TCPIPInstrument at TCPIP0::130.79.148.197::inst0::INSTR\n"
     ]
    }
   ],
   "source": [
    "print(my_instrument)"
   ]
  },
  {
   "cell_type": "code",
   "execution_count": 5,
   "id": "84174096",
   "metadata": {
    "ExecuteTime": {
     "end_time": "2023-01-10T15:14:27.513185Z",
     "start_time": "2023-01-10T15:14:27.501282Z"
    }
   },
   "outputs": [
    {
     "data": {
      "text/plain": [
       "12"
      ]
     },
     "execution_count": 5,
     "metadata": {},
     "output_type": "execute_result"
    }
   ],
   "source": [
    "my_instrument.write(':FREQ 2GHz')"
   ]
  },
  {
   "cell_type": "code",
   "execution_count": 6,
   "id": "059a5558",
   "metadata": {
    "ExecuteTime": {
     "end_time": "2023-01-10T15:14:31.537221Z",
     "start_time": "2023-01-10T15:14:31.531506Z"
    }
   },
   "outputs": [
    {
     "data": {
      "text/plain": [
       "26"
      ]
     },
     "execution_count": 6,
     "metadata": {},
     "output_type": "execute_result"
    }
   ],
   "source": [
    "my_instrument.write(':FREQ 500MHz; POW -20DBM')"
   ]
  },
  {
   "cell_type": "code",
   "execution_count": 31,
   "id": "0707906f",
   "metadata": {
    "ExecuteTime": {
     "end_time": "2023-01-09T17:01:38.483146Z",
     "start_time": "2023-01-09T17:01:38.469040Z"
    }
   },
   "outputs": [
    {
     "data": {
      "text/plain": [
       "11"
      ]
     },
     "execution_count": 31,
     "metadata": {},
     "output_type": "execute_result"
    }
   ],
   "source": [
    "my_instrument.write(':OUTP OFF')"
   ]
  },
  {
   "cell_type": "code",
   "execution_count": 33,
   "id": "c8b0ab98",
   "metadata": {
    "ExecuteTime": {
     "end_time": "2023-01-09T17:02:32.749027Z",
     "start_time": "2023-01-09T17:02:32.734153Z"
    }
   },
   "outputs": [
    {
     "data": {
      "text/plain": [
       "34"
      ]
     },
     "execution_count": 33,
     "metadata": {},
     "output_type": "execute_result"
    }
   ],
   "source": [
    "my_instrument.write(':DM:IQADjustment:EXTernal:QSKew?')"
   ]
  },
  {
   "cell_type": "code",
   "execution_count": null,
   "id": "b34c1a96",
   "metadata": {},
   "outputs": [],
   "source": []
  }
 ],
 "metadata": {
  "kernelspec": {
   "display_name": "Python 3 (ipykernel)",
   "language": "python",
   "name": "python3"
  },
  "language_info": {
   "codemirror_mode": {
    "name": "ipython",
    "version": 3
   },
   "file_extension": ".py",
   "mimetype": "text/x-python",
   "name": "python",
   "nbconvert_exporter": "python",
   "pygments_lexer": "ipython3",
   "version": "3.9.15"
  },
  "toc": {
   "base_numbering": 1,
   "nav_menu": {},
   "number_sections": true,
   "sideBar": true,
   "skip_h1_title": false,
   "title_cell": "Table of Contents",
   "title_sidebar": "Contents",
   "toc_cell": false,
   "toc_position": {},
   "toc_section_display": true,
   "toc_window_display": false
  }
 },
 "nbformat": 4,
 "nbformat_minor": 5
}
