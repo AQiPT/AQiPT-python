{
 "cells": [
  {
   "cell_type": "markdown",
   "id": "c3a91a79",
   "metadata": {
    "ExecuteTime": {
     "end_time": "2021-06-10T08:25:13.484620Z",
     "start_time": "2021-06-10T08:25:13.471664Z"
    }
   },
   "source": [
    "<table><tr>\n",
    "<td> <img src=\"20210519_header_jupyter_notebooks.png\" alt=\"Drawing\", style=\"float:left;margin:0 10px 10px 0\" markdown=\"1\"/> </td>\n",
    "</tr></table>\n",
    "\n",
    "\n",
    "\\textbf{Author}: Manuel A. Morgado V. \n",
    "\n",
    "\\textbf{Affiliation}: \n",
    "\n",
    "- \\textit{Institut de Science et d’Ingénierie Supramoléculaires (ISIS, UMR7006), University of Strasbourg and CNRS}\n",
    "\n",
    "- \\textit{Centre Européen de Sciences Quantiques (CESQ-ISIS, UMR7006), University of Strasbourg and CNRS}\n",
    "\n",
    "\\textbf{Created}: Jun.10, 2021\n",
    "\n",
    "\\textbf{Last Modification}: Jun.10, 2021\n",
    "\n",
    "\\textbf{License}: http://www.apache.org/licenses/LICENSE-2.0"
   ]
  },
  {
   "cell_type": "code",
   "execution_count": 6,
   "id": "a3573c40",
   "metadata": {
    "ExecuteTime": {
     "end_time": "2021-06-10T08:27:11.430076Z",
     "start_time": "2021-06-10T08:27:11.422319Z"
    }
   },
   "outputs": [],
   "source": [
    "from numpy import asarray, cos, sin, exp, sqrt, pi\n",
    "import qutip as qt"
   ]
  },
  {
   "cell_type": "markdown",
   "id": "ea9f6a14",
   "metadata": {
    "ExecuteTime": {
     "end_time": "2021-06-10T08:55:22.600737Z",
     "start_time": "2021-06-10T08:55:22.595215Z"
    }
   },
   "source": [
    "# Algebraic native Rydberg quantum gates"
   ]
  },
  {
   "cell_type": "markdown",
   "id": "1a208f6b",
   "metadata": {},
   "source": [
    "Based in the latest summary of Rydberg gates on this review article, there is a distinction of different types of native Rydberg quantum gates. Not only considering the nature of the gates over the number of qubits, but also in the nature of the simultaneity of the gates, they can be broadly divide in 3 classes:\n",
    "\n",
    "    -Single qubit gates\n",
    "    -Two qubits gates\n",
    "    -Multi-qubits gates or parallel-controlled qubit gates\n",
    "\n",
    "In the following cells is presented a series of functions that summarize these native gate set for Rydberg qubits."
   ]
  },
  {
   "cell_type": "markdown",
   "id": "f88bbc8c",
   "metadata": {},
   "source": [
    "<div class=\"alert alert-block alert-warning\">\n",
    "\n",
    "**Warning!**\n",
    "\n",
    "These \"algebraic\" gates are based on a specific sequence of physical operations that might no be optimal, so if you would like to go a bit deeper on this it would be necessary to dig on the Hamiltonian (theoretical) sequence or at the level of lab control pulses (experimental).\n",
    "\n",
    "</div>"
   ]
  },
  {
   "cell_type": "code",
   "execution_count": 7,
   "id": "3a37cda4",
   "metadata": {
    "ExecuteTime": {
     "end_time": "2021-06-10T08:27:11.904110Z",
     "start_time": "2021-06-10T08:27:11.859775Z"
    },
    "code_folding": [
     2,
     8,
     19,
     40,
     62,
     84,
     87,
     112,
     123
    ],
    "hide_input": false
   },
   "outputs": [],
   "source": [
    "#single qubit gates\n",
    "'''\n",
    "Here we find the single qubits gates for Rydberg qubits.\n",
    "\n",
    "    Uxy(phi, alpha)\n",
    "        phi (float) : angle\n",
    "        alpha (float): angle\n",
    "'''\n",
    "def Uxy(phi, alpha):\n",
    "    m11 = cos(phi/2); \n",
    "    m12 = -1j*sin(phi/2)*exp(1j*alpha);\n",
    "    \n",
    "    m21 = -1j*sin(phi/2)*exp(-1j*alpha); \n",
    "    m22 = cos(phi/2);\n",
    "    return qt.Qobj(asarray([[m11, m12],[m21, m22]]))\n",
    "\n",
    "\n",
    "#two qubits gates\n",
    "'''\n",
    "Here we find the two qubits gates for Rydberg qubits.\n",
    "\n",
    "    Controlled-Uxy\n",
    "        CUxy(phi, alpha)\n",
    "            phi (float) : angle\n",
    "            alpha (float): angle\n",
    "\n",
    "    Controlled-phase\n",
    "        CPHASE(phi00, phi01, phi10, phi11)\n",
    "            phi00 (float) : angle\n",
    "            phi01 (float): angle\n",
    "            phi10 (float): angle\n",
    "            phi11 (float): angle\n",
    "\n",
    "    Controlled-Pauli Z\n",
    "        CZ()\n",
    "\n",
    "    Rydberg dipole exchange\n",
    "        XY(phi)\n",
    "            phi (float): angle\n",
    "'''\n",
    "def CUxy(phi, alpha):\n",
    "    m11 = cos(phi/2); \n",
    "    m12 = -1j*sin(phi/2)*exp(1j*alpha); \n",
    "    m13 = 0; \n",
    "    m14 = 0;\n",
    "    \n",
    "    m21 = -1j*sin(phi/2)*exp(-1j*alpha); \n",
    "    m22 = cos(phi/2); \n",
    "    m23 = 0; \n",
    "    m24 = 0;\n",
    "    \n",
    "    m31 = 0; \n",
    "    m32 = 0; \n",
    "    m33 = 1; \n",
    "    m34 = 0;\n",
    "    \n",
    "    m41 = 0; \n",
    "    m42 = 0; \n",
    "    m43 = 0; \n",
    "    m44 = 1;\n",
    "    return qt.Qobj(asarray([[m11, m12, m13, m14],[m21, m22, m23, m24], [m31, m32, m33, m34],[m41, m42, m43, m44]]))\n",
    "\n",
    "def CPHASE(phi00, phi01, phi10, phi11):\n",
    "    m11 = exp(1j*phi00); \n",
    "    m12 = 0; \n",
    "    m13 = 0; \n",
    "    m14 = 0;\n",
    "\n",
    "    m21 = 0; \n",
    "    m22 = exp(1j*phi01); \n",
    "    m23 = 0; \n",
    "    m24 = 0;\n",
    "\n",
    "    m31 = 0; \n",
    "    m32 = 0; \n",
    "    m33 = exp(1j*phi10); \n",
    "    m34 = 0;\n",
    "\n",
    "    m41 = 0; \n",
    "    m42 = 0; \n",
    "    m43 = 0; \n",
    "    m44 = exp(1j*phi11);\n",
    "    return qt.Qobj(asarray([[m11, m12, m13, m14],[m21, m22, m23, m24], [m31, m32, m33, m34],[m41, m42, m43, m44]]), dims = [[2,2],[2,2]])\n",
    "\n",
    "def CZ():\n",
    "    return CPHASE(0, 0, 0, pi)    \n",
    "\n",
    "def XY(phi):\n",
    "    m11 = 1; \n",
    "    m12 = 0; \n",
    "    m13 = 0; \n",
    "    m14 = 0;\n",
    "\n",
    "    m21 = 0; \n",
    "    m22 = cos(phi); \n",
    "    m23 = -1j*sin(phi); \n",
    "    m24 = 0;\n",
    "\n",
    "    m31 = 0; \n",
    "    m32 = -1j*sin(phi); \n",
    "    m33 = cos(phi); \n",
    "    m34 = 0;\n",
    "\n",
    "    m41 = 0; \n",
    "    m42 = 0; \n",
    "    m43 = 0; \n",
    "    m44 = 1;\n",
    "    return qt.Qobj(asarray([[m11, m12, m13, m14],[m21, m22, m23, m24], [m31, m32, m33, m34],[m41, m42, m43, m44]]))\n",
    "\n",
    "\n",
    "#multi-qubits gates\n",
    "'''\n",
    "Here we find the single qubits gates for Rydberg qubits.\n",
    "\n",
    "    Parallel-controlled-Uxy\n",
    "        pCUxy(theta, varphi)\n",
    "            theta (float) : angle\n",
    "            varphi (float): angle\n",
    "\n",
    "    Parallel-controlled-Pauli Z\n",
    "        pCZ(phi)\n",
    "            phi (float): angle\n",
    "'''\n",
    "def pCUxy(theta, varphi):\n",
    "    m11 = cos(theta/2); \n",
    "    m12 = -1j*sin(theta/2)*exp(1j*varphi)/sqrt(2); \n",
    "    m13 = -1j*sin(theta/2)*exp(1j*varphi)/sqrt(2); \n",
    "    m14 = 0;\n",
    "    \n",
    "    m21 = 1j*sin(theta/2)*exp(-1j*varphi)/sqrt(2);\n",
    "    m22 = cos(theta/4)**2; \n",
    "    m23 = -sin(theta/4)**2;\n",
    "    m24 = 0;\n",
    "    \n",
    "    m31 = 1j*sin(theta/2)*exp(-1j*varphi)/sqrt(2);\n",
    "    m32 = m23;\n",
    "    m33 = cos(theta/4)**2; \n",
    "    m34 = 0;\n",
    "    \n",
    "    m41 = 0; \n",
    "    m42 = 0; \n",
    "    m43 = 0; \n",
    "    m44 = 1;\n",
    "    return qt.Qobj(asarray([[m11, m12, m13, m14],[m21, m22, m23, m24], [m31, m32, m33, m34],[m41, m42, m43, m44]]), dims = [[2,2],[2,2]])\n",
    "\n",
    "def pCZ(phi):\n",
    "    return CPHASE(0, phi, phi, 2*phi-pi)\n",
    "\n",
    "\n"
   ]
  },
  {
   "cell_type": "code",
   "execution_count": null,
   "id": "d385e2ab",
   "metadata": {
    "ExecuteTime": {
     "end_time": "2021-06-10T08:28:06.948943Z",
     "start_time": "2021-06-10T08:28:06.933546Z"
    }
   },
   "outputs": [],
   "source": []
  },
  {
   "cell_type": "code",
   "execution_count": null,
   "id": "d9e9c593",
   "metadata": {},
   "outputs": [],
   "source": []
  }
 ],
 "metadata": {
  "kernelspec": {
   "display_name": "Python 3.8.5 64-bit ('q-env': conda)",
   "language": "python",
   "name": "python38564bitqenvconda74bc4a68260349ca9180e878113d433c"
  },
  "language_info": {
   "codemirror_mode": {
    "name": "ipython",
    "version": 3
   },
   "file_extension": ".py",
   "mimetype": "text/x-python",
   "name": "python",
   "nbconvert_exporter": "python",
   "pygments_lexer": "ipython3",
   "version": "3.8.8"
  },
  "latex_envs": {
   "LaTeX_envs_menu_present": true,
   "autoclose": false,
   "autocomplete": true,
   "bibliofile": "biblio.bib",
   "cite_by": "apalike",
   "current_citInitial": 1,
   "eqLabelWithNumbers": true,
   "eqNumInitial": 1,
   "hotkeys": {
    "equation": "Ctrl-E",
    "itemize": "Ctrl-I"
   },
   "labels_anchors": false,
   "latex_user_defs": false,
   "report_style_numbering": false,
   "user_envs_cfg": false
  },
  "toc": {
   "base_numbering": 1,
   "nav_menu": {},
   "number_sections": true,
   "sideBar": true,
   "skip_h1_title": false,
   "title_cell": "Table of Contents",
   "title_sidebar": "Contents",
   "toc_cell": false,
   "toc_position": {},
   "toc_section_display": true,
   "toc_window_display": false
  },
  "varInspector": {
   "cols": {
    "lenName": 16,
    "lenType": 16,
    "lenVar": 40
   },
   "kernels_config": {
    "python": {
     "delete_cmd_postfix": "",
     "delete_cmd_prefix": "del ",
     "library": "var_list.py",
     "varRefreshCmd": "print(var_dic_list())"
    },
    "r": {
     "delete_cmd_postfix": ") ",
     "delete_cmd_prefix": "rm(",
     "library": "var_list.r",
     "varRefreshCmd": "cat(var_dic_list()) "
    }
   },
   "types_to_exclude": [
    "module",
    "function",
    "builtin_function_or_method",
    "instance",
    "_Feature"
   ],
   "window_display": false
  }
 },
 "nbformat": 4,
 "nbformat_minor": 5
}
