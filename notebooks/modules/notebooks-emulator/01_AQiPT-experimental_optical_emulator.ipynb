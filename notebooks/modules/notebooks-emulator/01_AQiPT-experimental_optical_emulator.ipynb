{
 "cells": [
  {
   "cell_type": "markdown",
   "id": "13ba649c",
   "metadata": {},
   "source": [
    "# - Experimental optical emulator\n",
    "\n",
    "Author: M. Morgado (morgadovargas@unistra.fr)\n",
    "\n",
    "August 2021 \n"
   ]
  },
  {
   "cell_type": "markdown",
   "id": "dd9ea503",
   "metadata": {},
   "source": [
    "<div class=\"alert alert-block alert-success\">\n",
    "\n",
    "**Goal** : charaterize dynamical optical components and driven pulses for quantum gates and qubit state preparation, considering hardware-aware characterization via transfer matrices, possible future class of AQiPT\n",
    "    "
   ]
  },
  {
   "cell_type": "code",
   "execution_count": 1,
   "id": "2164218d",
   "metadata": {
    "ExecuteTime": {
     "end_time": "2021-08-08T08:55:41.751844Z",
     "start_time": "2021-08-08T08:55:40.735025Z"
    },
    "code_folding": [
     0
    ]
   },
   "outputs": [],
   "source": [
    "#libs\n",
    "%matplotlib inline\n",
    "import matplotlib.pyplot as plt\n",
    "from numba import njit\n",
    "import numpy as np\n",
    "from scipy import signal, interpolate\n",
    "import scipy as scp\n",
    "\n",
    "import AQiPTbeta as aqipt\n",
    "\n",
    "# import sys\n",
    "# sys.path.append(\"/QG8Python/qg8/\") # go to parent dir\n",
    "# from qg8 import *"
   ]
  },
  {
   "cell_type": "markdown",
   "id": "e901ad40",
   "metadata": {},
   "source": [
    "<img src=\"resources/opt_setup.png\">"
   ]
  },
  {
   "cell_type": "markdown",
   "id": "7bd2748b",
   "metadata": {
    "ExecuteTime": {
     "end_time": "2021-08-06T14:28:24.763066Z",
     "start_time": "2021-08-06T14:28:24.757720Z"
    }
   },
   "source": [
    "<div class=\"alert alert-block alert-info\">\n",
    "\n",
    "**Class** : class of optical setup, beam path and optical elements\n",
    "    "
   ]
  },
  {
   "cell_type": "code",
   "execution_count": 2,
   "id": "4fac7342",
   "metadata": {
    "ExecuteTime": {
     "end_time": "2021-08-06T13:51:20.912709Z",
     "start_time": "2021-08-06T13:51:20.875873Z"
    },
    "code_folding": [
     0,
     14,
     23,
     31,
     39,
     47,
     55,
     63,
     74,
     82,
     92,
     136
    ]
   },
   "outputs": [],
   "source": [
    "class optElement(object):\n",
    "    \n",
    "    def __init__(self, args):\n",
    "        self.args=args\n",
    "        self.type=None\n",
    "        self.name=None\n",
    "        self.label=None\n",
    "        \n",
    "    def get_matrix(cls):\n",
    "        return cls.transferMatrix\n",
    "    \n",
    "    def get_name(self):\n",
    "        return self.name\n",
    "    \n",
    "class medium(optElement):\n",
    "    \n",
    "    def __init__(self, args):\n",
    "        optElement.__init__(self, args)\n",
    "        self.type = 'Passive'\n",
    "        self.name = 'Medium'\n",
    "        self.label = args['label']\n",
    "        self.transferMatrix = np.array([[1 , args['distance']],\n",
    "                                       [0 , 1]])    \n",
    "class flatInterface(optElement):\n",
    "    \n",
    "    def __init__(self, args):\n",
    "        self.type = 'Passive'\n",
    "        self.name = 'Flat Interface'\n",
    "        self.label = args['label']\n",
    "        self.transferMatrix = np.array([[1 , 0],\n",
    "                                        [0 , args['n1']/args['n2']]])\n",
    "class curvedInterface(optElement):\n",
    "    \n",
    "    def __init__(self, args):\n",
    "        self.type = 'Passive'\n",
    "        self.name = 'Curved Interface'\n",
    "        self.label = args['label']\n",
    "        self.transferMatrix = np.array([[1 , 0],\n",
    "                                        [((args['n1']-args['n2'])/(args['curvature_radius']*args['n2'])) , args['n1']/args['n2']]])    \n",
    "class flatMirror(optElement):\n",
    "    \n",
    "    def __init__(self, args):\n",
    "        self.type = 'Passive'\n",
    "        self.name = 'Flat Mirror'\n",
    "        self.label = args['label']\n",
    "        self.transferMatrix = np.array([[1 , 0],\n",
    "                                        [0 , 1]])\n",
    "class curvedMirror(optElement):\n",
    "        \n",
    "    def __init__(self, args):\n",
    "        self.type = 'Passive'\n",
    "        self.name = 'Flat Interface'\n",
    "        self.label = args['label']\n",
    "        self.transferMatrix = np.array([[1 , 0],\n",
    "                                        [-1*(2/args['curvature_radius']) , args['n1']/args['n2']]])\n",
    "class thinLens(optElement):\n",
    "    \n",
    "    def __init__(self, args):\n",
    "        self.type = 'Passive'\n",
    "        self.name = 'Flat Interface'\n",
    "        self.label = args['label']\n",
    "        self.transferMatrix = np.array([[1 , 0],\n",
    "                                        [(-1/args['focal_lenght']) , 1]])\n",
    "class thickLens(optElement):\n",
    "        \n",
    "    def __init__(self, args):\n",
    "        A = np.array([[1 , 0],\n",
    "                  [((args['n1']-args['n2'])/(args['curvature_radius']*args['n2'])) , args['n1']/args['n2']]])\n",
    "        B = np.array([[1, args['thickness_center']], [0,1]])\n",
    "        \n",
    "        self.type = 'Passive'\n",
    "        self.name = 'Thick Lens'\n",
    "        self.label = args['label']\n",
    "        self.transferMatrix = np.dot(A,np.dot(B,A))        \n",
    "class prism(optElement):\n",
    "    \n",
    "    def __init__(self, args):\n",
    "        self.type = 'Passive'\n",
    "        self.name = 'Prism'\n",
    "        self.label = args['label']\n",
    "        self.transferMatrix = np.array([[args['beam_expansion'] , args['prism_path_length']/(args['n1']*args['beam_expansion'])],\n",
    "                                    [0 , 1/args['beam_expansion']]])\n",
    "class multiplePrism(optElement):\n",
    "    \n",
    "    def __init__(self, args):\n",
    "        self.type = 'Passive'\n",
    "        self.name = 'Prism'\n",
    "        self.label = args['label']\n",
    "        self.transferMatrix = np.array([[args['magnification'],args['total_opt_propagation']],\n",
    "                                        [0, 1/args['magnification']]])\n",
    "\n",
    "        \n",
    "class beam(object):\n",
    "    \n",
    "    def __init__(self, amplitude, frequency, polarization, direction, phase=0, aligned=True, tSampling=np.linspace(0,1,100)):\n",
    "        if aligned==True:\n",
    "            self.tSamp=tSampling;\n",
    "            self.amp=amplitude;\n",
    "            self.freq=frequency;\n",
    "            self.pol=polarization;\n",
    "            self.dir=direction;\n",
    "            self.ph=phase;\n",
    "            self._Efield=self.amp*np.cos(self.freq*self.tSamp + self.ph)*self.pol;\n",
    "            self._beamVector=[self._Efield, self.dir];\n",
    "            self.path=np.array([[1,0],[0,1]]);\n",
    "            self._elements=list();\n",
    "        else:\n",
    "            print('Spacial dependency of setup no supported yet. Sorry :(')\n",
    "    \n",
    "    @classmethod\n",
    "    def create(cls, amplitude, frequency, polarization, direction, phase=0, aligned=True, tSampling=np.linspace(0,1,100)):\n",
    "        return cls(amplitude, frequency, polarization, direction, phase=0, aligned=True, tSampling=np.linspace(0,1,100))\n",
    "        \n",
    "    def add2Path(self, optElmnt):\n",
    "        if isinstance(optElmnt, object):\n",
    "            self.path=np.dot(self.path,optElmnt.get_matrix())\n",
    "            self._elements.append(optElmnt)\n",
    "        if isinstance(optElmnt, list):\n",
    "            for element in optElmnt:\n",
    "                self.path=np.dot(self.path,element.get_matrix())\n",
    "            self._elements+=optElmnt\n",
    "    \n",
    "    def get_beamVector(self):\n",
    "        return self._beamVector\n",
    "    \n",
    "    def get_Efield(self):\n",
    "        return self._Efield\n",
    "    \n",
    "    def get_pathMatrix(self):\n",
    "        return self.path\n",
    "    \n",
    "    def get_elements(self):\n",
    "        return self._elements\n",
    "\n",
    "    \n",
    "    \n",
    "class OptSetup(object):\n",
    "    \n",
    "    def __init__(self):\n",
    "        self.name=None\n",
    "        self._beams=list()\n",
    "        self._elements=list()\n",
    "    \n",
    "    def add2Setup(self, newBeam):\n",
    "        self._beams.append(newBeam)\n",
    "        self._elements+= newBeam._elements\n",
    "    \n",
    "    def _addElements(self, elements):\n",
    "        if isinstance(elements, optElement):\n",
    "            self._elements.append(elements)\n",
    "        if isinstance(elements, list):\n",
    "            for element in elements:\n",
    "                if isinstance(element, optElement):\n",
    "                    self._elements.append(element)\n",
    "    \n",
    "    def getbeams(self):\n",
    "        return self._beams\n",
    "    \n",
    "#     def playStatic():\n",
    "    \n",
    "#     def playDynamic():"
   ]
  },
  {
   "cell_type": "code",
   "execution_count": 3,
   "id": "8006412c",
   "metadata": {
    "ExecuteTime": {
     "end_time": "2021-08-06T13:51:23.860294Z",
     "start_time": "2021-08-06T13:51:23.824901Z"
    },
    "code_folding": [
     0
    ]
   },
   "outputs": [],
   "source": [
    "#creating optical elements\n",
    "optElements_args = {'distance': 1, 'n1': 1, 'n2': 3/4,\n",
    "                    'curvature_radius': 0.1, 'focal_lenght': 0.05,\n",
    "                   'thickness_center': 0.1, 'beam_expansion': 1,\n",
    "                   'prism_path_length': 0.3, 'magnification': 1,\n",
    "                   'total_opt_propagation': 1, 'label': 'default'}\n",
    "##mirrors\n",
    "mirror_1 = flatMirror(optElements_args)\n",
    "mirror_2 = flatMirror(optElements_args)\n",
    "mirror_3 = flatMirror(optElements_args)\n",
    "mirror_4 = flatMirror(optElements_args)\n",
    "##lenses\n",
    "lens_1 = thinLens(optElements_args)\n",
    "lens_2 = thinLens(optElements_args)\n",
    "##polarizers\n",
    "# polarizer_1 = polarizer(optElements_args)\n",
    "# polarizer_2 = polarizer(optElements_args)\n",
    "##PBC\n",
    "# pbc = pbc(optElements_args)\n",
    "##BS\n",
    "# bs = bs(optElements_args)\n",
    "##AOM\n",
    "# aom = aom(optElements_args)\n",
    "##LASER\n",
    "# laser = laser(optElements_args)\n",
    "\n",
    "\n",
    "\n",
    "#creating optical path\n",
    "OptPath = beam.create(1, 100, +1, [0,0])\n",
    "##adding optical elements to path\n",
    "# OptPath.add2Path(laser)\n",
    "# OptPath.add2Path(polarizer_1)\n",
    "# OptPath.add2Path(pbc)\n",
    "OptPath.add2Path(mirror_1)\n",
    "OptPath.add2Path(mirror_3)\n",
    "\n",
    "OptPath.add2Path(lens_1)\n",
    "# OptPath.add2Path(aom)\n",
    "OptPath.add2Path(lens_2)\n",
    "# OptPath.add2Path(polarizer_2)\n",
    "OptPath.add2Path(mirror_4)\n",
    "\n",
    "OptPath.add2Path(mirror_2)\n",
    "# OptPath.add2Path(bs)\n",
    "\n",
    "\n",
    "#creating setup\n",
    "# optset = aqipt.OptSetup()\n",
    "##adding optical path\n",
    "# optset.add2Setup(OptPath)\n",
    "##calculating matrix\n",
    "# Experiment = optset.playStatic()\n",
    "\n",
    "\n",
    "\n"
   ]
  },
  {
   "cell_type": "code",
   "execution_count": null,
   "id": "ba7a4764",
   "metadata": {
    "ExecuteTime": {
     "end_time": "2021-08-05T15:23:50.862988Z",
     "start_time": "2021-08-05T15:23:50.493Z"
    },
    "code_folding": [
     0
    ]
   },
   "outputs": [],
   "source": [
    "#creating optical aqipt elements\n",
    "optElements_args = {'distance': 1, 'n1': 1, 'n2': 3/4,\n",
    "                    'curvature_radius': 0.1, 'focal_lenght': 0.05,\n",
    "                   'thickness_center': 0.1, 'beam_expansion': 1,\n",
    "                   'prism_path_length': 0.3, 'magnification': 1,\n",
    "                   'total_opt_propagation': 1}\n",
    "##mirrors\n",
    "mirror_1 = aqipt.optElement(optElements_args).mirror()\n",
    "mirror_2 = aqipt.optElement(optElements_args).mirror()\n",
    "mirror_3 = aqipt.optElement(optElements_args).mirror()\n",
    "mirror_4 = aqipt.optElement(optElements_args).mirror()\n",
    "##lenses\n",
    "lens_1 = aqipt.optElement(optElements_args).lens()\n",
    "lens_2 = aqipt.optElement(optElements_args).lens()\n",
    "##polarizers\n",
    "polarizer_1 = aqipt.optElement(optElements_args).polarizer()\n",
    "polarizer_2 = aqipt.optElement(optElements_args).polarizer()\n",
    "##PBC\n",
    "pbc = aqipt.optElement(optElements_args).pbc()\n",
    "##BS\n",
    "bs = aqipt.optElement(optElements_args).bs()\n",
    "##AOM\n",
    "aom = aqipt.optElement(optElements_args).aom()\n",
    "##LASER\n",
    "laser = aqipt.optElement(optElements_args).laser()\n",
    "\n",
    "\n",
    "\n",
    "#creating optical path\n",
    "OptPath = aqipt.beam(amplitude, frequency, polarization, direction).create()\n",
    "##adding optical elements to path\n",
    "OptPath.add2Path(laser)\n",
    "OptPath.add2Path(polarizer_1)\n",
    "OptPath.add2Path(pbc)\n",
    "OptPath.add2Path(mirror_1)\n",
    "OptPath.add2Path(mirror_3)\n",
    "\n",
    "OptPath.add2Path(lens_1)\n",
    "OptPath.add2Path(aom)\n",
    "OptPath.add2Path(lens_2)\n",
    "OptPath.add2Path(polarizer_2)\n",
    "OptPath.add2Path(mirror_4)\n",
    "\n",
    "OptPath.add2Path(mirror_2)\n",
    "OptPath.add2Path(bs)\n",
    "\n",
    "\n",
    "#creating setup\n",
    "# optset = aqipt.OptSetup()\n",
    "##adding optical path\n",
    "# optset.add2Setup(OptPath)\n",
    "##calculating matrix\n",
    "# Experiment = optset.playStatic()\n",
    "\n",
    "\n",
    "\n"
   ]
  },
  {
   "cell_type": "markdown",
   "id": "91c56b01",
   "metadata": {
    "ExecuteTime": {
     "end_time": "2021-08-06T14:29:46.526682Z",
     "start_time": "2021-08-06T14:29:46.523992Z"
    }
   },
   "source": [
    "<div class=\"alert alert-block alert-info\">\n",
    "\n",
    "**Method** : transfer matrix approach\n",
    "    \n",
    "    Note: miss the fact that cross-parameters correlations/effects\n"
   ]
  },
  {
   "cell_type": "code",
   "execution_count": 2,
   "id": "ee01cb49",
   "metadata": {
    "ExecuteTime": {
     "end_time": "2021-08-08T08:55:50.969824Z",
     "start_time": "2021-08-08T08:55:50.959459Z"
    },
    "code_folding": []
   },
   "outputs": [],
   "source": [
    "#definition of full transfer tensors analysis\n",
    "\n",
    "@njit\n",
    "def convolution1D(function, kernel):\n",
    "    \n",
    "    n_func = function.size \n",
    "    n_ker = kernel.size \n",
    "    n_conv = n_func - n_ker + 1 \n",
    "    \n",
    "    inv_kernel = kernel[::-1].copy() \n",
    "    result = np.zeros(n_conv) \n",
    "    \n",
    "    for i_conv in range(n_conv):\n",
    "        result[i_conv] = np.dot(function[i_conv: i_conv + n_ker], inv_kernel)\n",
    "    \n",
    "    return result*(1/n_ker)\n",
    "\n"
   ]
  },
  {
   "cell_type": "code",
   "execution_count": 3,
   "id": "dd686283",
   "metadata": {
    "ExecuteTime": {
     "end_time": "2021-08-08T08:55:52.371915Z",
     "start_time": "2021-08-08T08:55:52.365464Z"
    },
    "code_folding": []
   },
   "outputs": [],
   "source": [
    "#definition of functions for kernels\n",
    "\n",
    "#Gaussian function\n",
    "def gaussian(tau, mu, sig):\n",
    "    return np.exp(-np.power(tau - mu, 2.) / (2 * np.power(sig, 2.)))\n",
    "\n",
    "#Gaussian spectral response function\n",
    "def gaussianSpectralResponse(tau, bw, wa, wl, shift=0):\n",
    "    return np.exp(-(((tau-shift)**2)*(bw*np.log(2))/(np.pi**2))) * np.exp(-1j*wa*(tau-shift))\n",
    "\n",
    "#Voigt function\n",
    "def faddeeva(z):\n",
    "    m = np.exp(-z**2)\n",
    "    return (m - m * scp.special.erf(-1.j * z))\n",
    "def voigt(tau, sigma, gamma, shift=0):\n",
    "    z = (tau-shift + 1.j * gamma) / (np.sqrt(2.) * sigma)\n",
    "    return faddeeva(z).real / (sigma * np.sqrt(2 * np.pi))\n",
    "\n",
    "#Dirac delta function\n",
    "def diracDelta(tau, idxVal):\n",
    "    return signal.unit_impulse(int(len(tau)), idxVal)\n"
   ]
  },
  {
   "cell_type": "code",
   "execution_count": 4,
   "id": "42296f65",
   "metadata": {
    "ExecuteTime": {
     "end_time": "2021-08-08T08:55:53.732697Z",
     "start_time": "2021-08-08T08:55:53.719778Z"
    }
   },
   "outputs": [],
   "source": [
    "#kernels\n",
    "\n",
    "#domaing values for convolution\n",
    "tau = [np.linspace(0,1,303), np.linspace(0,1,201), np.linspace(0,1,301)]\n",
    "\n",
    "#functions for kernels k(t)\n",
    "kernel_1 = diracDelta(tau[0], int(len(tau[0])/2))\n",
    "kernel_2 = gaussian(tau[0], mu=0.5, sig=0.1) \n",
    "kernel_3 = gaussianSpectralResponse(tau[0], bw=200, wa=50, wl=10, shift=0.4)\n",
    "kernel_4 = voigt(tau[0], sigma=0.1, gamma=0.1, shift=0.4)"
   ]
  },
  {
   "cell_type": "code",
   "execution_count": 5,
   "id": "23342dc8",
   "metadata": {
    "ExecuteTime": {
     "end_time": "2021-08-08T08:55:54.877834Z",
     "start_time": "2021-08-08T08:55:54.714653Z"
    }
   },
   "outputs": [
    {
     "data": {
      "image/png": "[encoded data removed]",
      "text/plain": [
       "<Figure size 432x288 with 1 Axes>"
      ]
     },
     "metadata": {
      "needs_background": "light"
     },
     "output_type": "display_data"
    }
   ],
   "source": [
    "#functions\n",
    "\n",
    "#PULSE SPECIFICATIONS\n",
    "#get params AQiPT object from dictionary\n",
    "params = aqipt.general_params({'sampling':3030, 'bitdepth':16, 'time_dyn':1}); \n",
    "\n",
    "#params for square pulse\n",
    "args_lst = {'amp': 1, 't_o':4., 'width': 1, 'tp_window': 10}\n",
    "tp = np.linspace(0, args_lst['tp_window'], params.sampling);\n",
    "squarePulse, plot = aqipt.function(tp, args_lst).step(plotON=False)\n",
    "\n",
    "#params for gaussian pulse\n",
    "args_lst = {'amp': 1, 't_o':4., 'width': 1, 'tp_window': 10}\n",
    "tp = np.linspace(0, args_lst['tp_window'], params.sampling);\n",
    "gaussianPulse, plot = aqipt.function(tp, args_lst).step(plotON=False)\n",
    "\n",
    "#points for the f(t)\n",
    "x_points = [ 0, 1, 2, 3, 4, 5]\n",
    "y_points = [12,14,22,39,58,77]\n",
    "\n",
    "#functions for f(t)\n",
    "function_1 = np.cos(10*tau[1]) + 1; #trigonometric function\n",
    "function_2 = np.asarray(y_points, dtype=np.float64); #spline from points function\n",
    "function_3 = np.repeat([0., 1., 0.], 101); #easy square function using numpy\n",
    "function_4 = np.array(squarePulse, dtype=np.float); #square pulse using AQiPT\n",
    "function_5 = gaussian(tp, mu=5, sig=0.1); #gaussian pulse"
   ]
  },
  {
   "cell_type": "code",
   "execution_count": 6,
   "id": "5cd99edf",
   "metadata": {
    "ExecuteTime": {
     "end_time": "2021-08-08T08:55:59.232754Z",
     "start_time": "2021-08-08T08:55:58.728664Z"
    },
    "scrolled": false
   },
   "outputs": [
    {
     "data": {
      "text/plain": [
       "[<matplotlib.lines.Line2D at 0x7fb941144a90>]"
      ]
     },
     "execution_count": 6,
     "metadata": {},
     "output_type": "execute_result"
    },
    {
     "data": {
      "image/png": "[encoded data removed]",
      "text/plain": [
       "<Figure size 720x432 with 1 Axes>"
      ]
     },
     "metadata": {
      "needs_background": "light"
     },
     "output_type": "display_data"
    }
   ],
   "source": [
    "#convolution \n",
    "\n",
    "function = function_5; #select f(t-t')\n",
    "kernel = kernel_3; #select k(t')\n",
    "resultR = convolution1D(function, np.real(kernel)); #integral{f(t-t')k(t')dt'}\n",
    "\n",
    "#ploting\n",
    "\n",
    "plt.figure(figsize=(10,6))\n",
    "# plt.plot(np.linspace(1,10,len(function)), function, color='red')\n",
    "# plt.plot(tau[0], kernel, color='blue')\n",
    "plt.plot(np.linspace(1,10,len(resultR)), resultR, color='black', alpha=0.9)\n",
    "\n"
   ]
  },
  {
   "cell_type": "code",
   "execution_count": 7,
   "id": "de99b809",
   "metadata": {
    "ExecuteTime": {
     "end_time": "2021-08-08T08:56:00.556661Z",
     "start_time": "2021-08-08T08:56:00.454761Z"
    }
   },
   "outputs": [
    {
     "data": {
      "text/plain": [
       "[<matplotlib.lines.Line2D at 0x7fb941094be0>]"
      ]
     },
     "execution_count": 7,
     "metadata": {},
     "output_type": "execute_result"
    },
    {
     "data": {
      "image/png": "[encoded data removed]",
      "text/plain": [
       "<Figure size 432x288 with 1 Axes>"
      ]
     },
     "metadata": {
      "needs_background": "light"
     },
     "output_type": "display_data"
    }
   ],
   "source": [
    "#with scipy\n",
    "Conv= np.convolve(function, np.real(kernel), mode='valid')*(1/kernel.size)\n",
    "plt.plot(np.linspace(1,10,len(Conv)), Conv, color='red')\n"
   ]
  },
  {
   "cell_type": "markdown",
   "id": "dab1bd35",
   "metadata": {},
   "source": [
    "<div class=\"alert alert-block alert-danger\">\n",
    "\n",
    "**Method** : full transfer matrix approach considering the response time behaviour and multi-demensional tensor including all cross-correlation of experimental params"
   ]
  },
  {
   "cell_type": "code",
   "execution_count": null,
   "id": "e3a13eca",
   "metadata": {
    "ExecuteTime": {
     "end_time": "2021-08-07T15:04:56.543396Z",
     "start_time": "2021-08-07T15:04:56.518797Z"
    },
    "code_folding": []
   },
   "outputs": [],
   "source": [
    "#domaing values for convolution\n",
    "tau = [np.linspace(0,20,101)]\n",
    "\n",
    "#kernel\n",
    "kernel = [voigt_f, signal.unit_impulse(int(len(tau[0])), 1), gaussianSpectralResponse(tau, 10, 1, 1)]\n",
    "\n",
    "#function x(t)\n",
    "# function = np.cos(1*tau[0] + np.pi/3)+1\n",
    "function = np.repeat([0., 1., 0.], 100)\n",
    "\n",
    "resultR = convolution1D(function, np.real(kernel[1]))\n",
    "resultI = convolution1D(function, np.imag(kernel[1]))\n",
    "\n",
    "\n",
    "plt.plot(tau[0], kernel[1], color='red', alpha=0.3)\n",
    "plt.plot(function, color='green', alpha=0.3)\n",
    "\n",
    "plt.plot(resultR, color='black', alpha=0.9)\n",
    "plt.plot(resultI, color='gray', alpha=0.9)"
   ]
  },
  {
   "cell_type": "code",
   "execution_count": null,
   "id": "5aa5a797",
   "metadata": {},
   "outputs": [],
   "source": [
    "-build kernels\n",
    "-build dependency functions\n",
    "-build tensor\n",
    "-do product\n",
    "-reconstruct signal\n",
    "-plot signal and optical outcome\n"
   ]
  },
  {
   "cell_type": "code",
   "execution_count": null,
   "id": "0dd13df6",
   "metadata": {},
   "outputs": [],
   "source": [
    "def setKernel(kname:str, args:dict):\n",
    "\n",
    "def setFunction(fname:str, args:dict):\n",
    "    \n",
    "def setTransferTensor(inParams, outParams,)"
   ]
  },
  {
   "cell_type": "markdown",
   "id": "653dc66b",
   "metadata": {},
   "source": [
    "---"
   ]
  },
  {
   "cell_type": "code",
   "execution_count": null,
   "id": "a4f01998",
   "metadata": {
    "code_folding": []
   },
   "outputs": [],
   "source": [
    "->\"Hardware-aware pulse optimized quantum gate for Rydberg qubits in dissipative environments\"\n",
    "    -hardware emulation\n",
    "    -dynamics simulation \n",
    "    -quantum optimal control\n",
    "    -quantum gate\n",
    "    -new qubit encoding in work (rr-qubits)\n",
    "    -quantum error correction (application)\n",
    "    \n",
    "Candidates for papers:\n",
    "    \n",
    "    ->\"Hardware-aware pulse optimized quantum gate for Rydberg qubits in dissipative environments\"\n",
    "    ->\"Demostration of a gate toolbox for Rydberg qubits\"\n",
    "    ->\"Scaling coherence to large arrays of Rydberg qubits\"\n",
    "    ->\"AQiPT: Atomic Quantum information Processing Toolbox framework for quantum engineering.\"\n",
    "    ->\"Using multipartite entanglement of self-protected dissipatve qubits for quatum error correction\""
   ]
  },
  {
   "cell_type": "code",
   "execution_count": null,
   "id": "9e74be88",
   "metadata": {},
   "outputs": [],
   "source": [
    "#09-09-2021\n"
   ]
  },
  {
   "cell_type": "code",
   "execution_count": 2,
   "id": "927ac456",
   "metadata": {
    "ExecuteTime": {
     "end_time": "2021-09-09T15:32:19.324998Z",
     "start_time": "2021-09-09T15:32:18.354848Z"
    }
   },
   "outputs": [],
   "source": [
    "import numpy as np\n",
    "import scipy.signal\n",
    "import matplotlib.pyplot as plt\n",
    "\n"
   ]
  },
  {
   "cell_type": "code",
   "execution_count": 10,
   "id": "5ee07854",
   "metadata": {
    "ExecuteTime": {
     "end_time": "2021-09-09T15:40:24.563443Z",
     "start_time": "2021-09-09T15:40:24.315629Z"
    }
   },
   "outputs": [
    {
     "data": {
      "image/png": "[encoded data removed]",
      "text/plain": [
       "<Figure size 432x504 with 4 Axes>"
      ]
     },
     "metadata": {
      "needs_background": "light"
     },
     "output_type": "display_data"
    }
   ],
   "source": [
    "signal = np.repeat([0., 1., 0.], 100)\n",
    "gauss = np.exp(-( (np.linspace(0,50)-25.)/float(12))**2 )\n",
    "\n",
    "#convolution\n",
    "filtered = np.convolve(signal, gauss, mode='same') \n",
    "\n",
    "#deconvolution\n",
    "deconv,  _ = scipy.signal.deconvolve( filtered, gauss )\n",
    "\n",
    "n = len(signal)-len(gauss)+1\n",
    "s = int((len(signal)-n)/2)\n",
    "\n",
    "deconv_res = np.zeros(len(signal))\n",
    "deconv_res[int(s):int(len(signal)-s-1)] = deconv\n",
    "deconv = deconv_res\n",
    "\n",
    "#plot\n",
    "fig , ax = plt.subplots(nrows=4, figsize=(6,7))\n",
    "\n",
    "ax[0].plot(signal, label=\"original signal\",     lw=3 ) \n",
    "ax[1].plot(gauss, label=\"gauss kernel\", lw=3 )\n",
    "ax[2].plot(filtered/np.sum(gauss), label=\"convoluted signal\" ,  lw=3 )\n",
    "ax[3].plot(deconv, label=\"deconvoluted signal\", lw=3 ) \n",
    "\n",
    "for i in range(len(ax)):\n",
    "    ax[i].set_xlim([0, len(signal)])\n",
    "    ax[i].set_ylim([-0.07, 1.2])\n",
    "    ax[i].legend(loc=1, fontsize=11)\n",
    "    if i != len(ax)-1 :\n",
    "        ax[i].set_xticklabels([])\n"
   ]
  },
  {
   "cell_type": "code",
   "execution_count": 5,
   "id": "491aa3ad",
   "metadata": {
    "ExecuteTime": {
     "end_time": "2021-09-09T15:36:06.371569Z",
     "start_time": "2021-09-09T15:36:06.359805Z"
    }
   },
   "outputs": [
    {
     "data": {
      "text/plain": [
       "24.5"
      ]
     },
     "execution_count": 5,
     "metadata": {},
     "output_type": "execute_result"
    }
   ],
   "source": [
    "s"
   ]
  },
  {
   "cell_type": "code",
   "execution_count": null,
   "id": "b7142c1c",
   "metadata": {},
   "outputs": [],
   "source": []
  },
  {
   "cell_type": "code",
   "execution_count": null,
   "id": "6e252833",
   "metadata": {},
   "outputs": [],
   "source": []
  },
  {
   "cell_type": "code",
   "execution_count": null,
   "id": "afd35c54",
   "metadata": {},
   "outputs": [],
   "source": []
  }
 ],
 "metadata": {
  "kernelspec": {
   "display_name": "Python 3.8.5 64-bit ('q-env': conda)",
   "language": "python",
   "name": "python38564bitqenvconda74bc4a68260349ca9180e878113d433c"
  },
  "language_info": {
   "codemirror_mode": {
    "name": "ipython",
    "version": 3
   },
   "file_extension": ".py",
   "mimetype": "text/x-python",
   "name": "python",
   "nbconvert_exporter": "python",
   "pygments_lexer": "ipython3",
   "version": "3.8.8"
  },
  "latex_envs": {
   "LaTeX_envs_menu_present": true,
   "autoclose": false,
   "autocomplete": true,
   "bibliofile": "biblio.bib",
   "cite_by": "apalike",
   "current_citInitial": 1,
   "eqLabelWithNumbers": true,
   "eqNumInitial": 1,
   "hotkeys": {
    "equation": "Ctrl-E",
    "itemize": "Ctrl-I"
   },
   "labels_anchors": false,
   "latex_user_defs": false,
   "report_style_numbering": false,
   "user_envs_cfg": false
  },
  "toc": {
   "base_numbering": 1,
   "nav_menu": {},
   "number_sections": true,
   "sideBar": true,
   "skip_h1_title": false,
   "title_cell": "Table of Contents",
   "title_sidebar": "Contents",
   "toc_cell": false,
   "toc_position": {},
   "toc_section_display": true,
   "toc_window_display": false
  },
  "varInspector": {
   "cols": {
    "lenName": 16,
    "lenType": 16,
    "lenVar": 40
   },
   "kernels_config": {
    "python": {
     "delete_cmd_postfix": "",
     "delete_cmd_prefix": "del ",
     "library": "var_list.py",
     "varRefreshCmd": "print(var_dic_list())"
    },
    "r": {
     "delete_cmd_postfix": ") ",
     "delete_cmd_prefix": "rm(",
     "library": "var_list.r",
     "varRefreshCmd": "cat(var_dic_list()) "
    }
   },
   "types_to_exclude": [
    "module",
    "function",
    "builtin_function_or_method",
    "instance",
    "_Feature"
   ],
   "window_display": false
  }
 },
 "nbformat": 4,
 "nbformat_minor": 5
}
